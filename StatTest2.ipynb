{
 "cells": [
  {
   "cell_type": "markdown",
   "id": "edf7af10",
   "metadata": {},
   "source": [
    "### Import Packages"
   ]
  },
  {
   "cell_type": "code",
   "execution_count": 41,
   "id": "e356710e",
   "metadata": {},
   "outputs": [],
   "source": [
    "import numpy as np\n",
    "import pandas as pd\n",
    "import matplotlib.pyplot as plt\n",
    "#from scipy.stats import linregress\n",
    "from sklearn.linear_model import LinearRegression\n",
    "import seaborn\n",
    "import yfinance as yf\n",
    "\n",
    "%matplotlib inline"
   ]
  },
  {
   "cell_type": "markdown",
   "id": "609aa22e",
   "metadata": {},
   "source": [
    "### Initializing Arrays and Importing Data "
   ]
  },
  {
   "cell_type": "code",
   "execution_count": 65,
   "id": "4716c544",
   "metadata": {},
   "outputs": [
    {
     "name": "stdout",
     "output_type": "stream",
     "text": [
      "[*********************100%***********************]  1 of 1 completed\n",
      "[*********************100%***********************]  1 of 1 completed\n"
     ]
    }
   ],
   "source": [
    "stocks = ['BTC-USD' ,'^RUT']\n",
    "start = '2019-12-31'\n",
    "end = '2021-08-09'\n",
    "fee = 0.001\n",
    "window = 252\n",
    "t_threshold = -2.5\n",
    "#retrieve data\n",
    "data = pd.DataFrame()\n",
    "returns = pd.DataFrame()\n",
    "for stock in stocks:\n",
    "    prices = yf.download(stock, start, end)\n",
    "    data[stock] = prices['Close']\n",
    "    returns[stock] = np.append(data[stock][1:].reset_index(drop=True)/data[stock][:-1].reset_index(drop=True) - 1, 0)\n",
    "btcusd = stocks[0]\n",
    "rut1 = stocks[1]"
   ]
  },
  {
   "cell_type": "markdown",
   "id": "61d3bfdd",
   "metadata": {},
   "source": [
    "### Data Cleaning"
   ]
  },
  {
   "cell_type": "code",
   "execution_count": 66,
   "id": "301ceb63",
   "metadata": {},
   "outputs": [],
   "source": [
    "newdata = data.dropna()"
   ]
  },
  {
   "cell_type": "code",
   "execution_count": 71,
   "id": "6d6e7358",
   "metadata": {},
   "outputs": [
    {
     "data": {
      "text/html": [
       "<div>\n",
       "<style scoped>\n",
       "    .dataframe tbody tr th:only-of-type {\n",
       "        vertical-align: middle;\n",
       "    }\n",
       "\n",
       "    .dataframe tbody tr th {\n",
       "        vertical-align: top;\n",
       "    }\n",
       "\n",
       "    .dataframe thead th {\n",
       "        text-align: right;\n",
       "    }\n",
       "</style>\n",
       "<table border=\"1\" class=\"dataframe\">\n",
       "  <thead>\n",
       "    <tr style=\"text-align: right;\">\n",
       "      <th></th>\n",
       "      <th>BTC-USD</th>\n",
       "      <th>^RUT</th>\n",
       "      <th>pctbtc</th>\n",
       "      <th>pctrut</th>\n",
       "    </tr>\n",
       "    <tr>\n",
       "      <th>Date</th>\n",
       "      <th></th>\n",
       "      <th></th>\n",
       "      <th></th>\n",
       "      <th></th>\n",
       "    </tr>\n",
       "  </thead>\n",
       "  <tbody>\n",
       "    <tr>\n",
       "      <th>2020-01-02</th>\n",
       "      <td>6985.470215</td>\n",
       "      <td>1666.770020</td>\n",
       "      <td>-0.028933</td>\n",
       "      <td>-0.001019</td>\n",
       "    </tr>\n",
       "    <tr>\n",
       "      <th>2020-01-03</th>\n",
       "      <td>7344.884277</td>\n",
       "      <td>1660.869995</td>\n",
       "      <td>0.051452</td>\n",
       "      <td>-0.003540</td>\n",
       "    </tr>\n",
       "    <tr>\n",
       "      <th>2020-01-06</th>\n",
       "      <td>7769.219238</td>\n",
       "      <td>1663.260010</td>\n",
       "      <td>0.057773</td>\n",
       "      <td>0.001439</td>\n",
       "    </tr>\n",
       "    <tr>\n",
       "      <th>2020-01-07</th>\n",
       "      <td>8163.692383</td>\n",
       "      <td>1658.310059</td>\n",
       "      <td>0.050774</td>\n",
       "      <td>-0.002976</td>\n",
       "    </tr>\n",
       "    <tr>\n",
       "      <th>2020-01-08</th>\n",
       "      <td>8079.862793</td>\n",
       "      <td>1663.589966</td>\n",
       "      <td>-0.010269</td>\n",
       "      <td>0.003184</td>\n",
       "    </tr>\n",
       "    <tr>\n",
       "      <th>...</th>\n",
       "      <td>...</td>\n",
       "      <td>...</td>\n",
       "      <td>...</td>\n",
       "      <td>...</td>\n",
       "    </tr>\n",
       "    <tr>\n",
       "      <th>2021-08-02</th>\n",
       "      <td>39201.945312</td>\n",
       "      <td>2215.500000</td>\n",
       "      <td>-0.071826</td>\n",
       "      <td>-0.004829</td>\n",
       "    </tr>\n",
       "    <tr>\n",
       "      <th>2021-08-03</th>\n",
       "      <td>38152.980469</td>\n",
       "      <td>2223.580078</td>\n",
       "      <td>-0.026758</td>\n",
       "      <td>0.003647</td>\n",
       "    </tr>\n",
       "    <tr>\n",
       "      <th>2021-08-04</th>\n",
       "      <td>39747.503906</td>\n",
       "      <td>2196.320068</td>\n",
       "      <td>0.041793</td>\n",
       "      <td>-0.012260</td>\n",
       "    </tr>\n",
       "    <tr>\n",
       "      <th>2021-08-05</th>\n",
       "      <td>40869.554688</td>\n",
       "      <td>2236.010010</td>\n",
       "      <td>0.028229</td>\n",
       "      <td>0.018071</td>\n",
       "    </tr>\n",
       "    <tr>\n",
       "      <th>2021-08-06</th>\n",
       "      <td>42816.500000</td>\n",
       "      <td>2247.760010</td>\n",
       "      <td>0.047638</td>\n",
       "      <td>0.005255</td>\n",
       "    </tr>\n",
       "  </tbody>\n",
       "</table>\n",
       "<p>399 rows × 4 columns</p>\n",
       "</div>"
      ],
      "text/plain": [
       "                 BTC-USD         ^RUT    pctbtc    pctrut\n",
       "Date                                                     \n",
       "2020-01-02   6985.470215  1666.770020 -0.028933 -0.001019\n",
       "2020-01-03   7344.884277  1660.869995  0.051452 -0.003540\n",
       "2020-01-06   7769.219238  1663.260010  0.057773  0.001439\n",
       "2020-01-07   8163.692383  1658.310059  0.050774 -0.002976\n",
       "2020-01-08   8079.862793  1663.589966 -0.010269  0.003184\n",
       "...                  ...          ...       ...       ...\n",
       "2021-08-02  39201.945312  2215.500000 -0.071826 -0.004829\n",
       "2021-08-03  38152.980469  2223.580078 -0.026758  0.003647\n",
       "2021-08-04  39747.503906  2196.320068  0.041793 -0.012260\n",
       "2021-08-05  40869.554688  2236.010010  0.028229  0.018071\n",
       "2021-08-06  42816.500000  2247.760010  0.047638  0.005255\n",
       "\n",
       "[399 rows x 4 columns]"
      ]
     },
     "execution_count": 71,
     "metadata": {},
     "output_type": "execute_result"
    }
   ],
   "source": [
    "newdata"
   ]
  },
  {
   "cell_type": "code",
   "execution_count": 78,
   "id": "dd75560f",
   "metadata": {},
   "outputs": [],
   "source": [
    "newdata['pctbtc] = newdata['BTC-USD'].pct_change()\n",
    "newdata['pctrut'] = newdata['^RUT'].pct_change()\n",
    "newdata.drop(index=newdata.index[0], \n",
    "      axis=0, \n",
    "      inplace=True)"
   ]
  },
  {
   "cell_type": "markdown",
   "id": "31c33ad7",
   "metadata": {},
   "source": [
    "### Plotting Data using BTC and RUT Prices & Calculating the LinReg"
   ]
  },
  {
   "cell_type": "code",
   "execution_count": 73,
   "id": "7be03f8b",
   "metadata": {},
   "outputs": [
    {
     "name": "stdout",
     "output_type": "stream",
     "text": [
      "beta =  0.01974006505392805\n",
      "Corr =  0.8923051738360366\n"
     ]
    },
    {
     "data": {
      "image/png": "[encoded data removed]",
      "text/plain": [
       "<Figure size 432x288 with 1 Axes>"
      ]
     },
     "metadata": {
      "needs_background": "light"
     },
     "output_type": "display_data"
    }
   ],
   "source": [
    "#plt.plot(newdata['pctbtc'], newdata['pctrut'], '.')\n",
    "plt.plot(newdata['BTC-USD'], newdata['^RUT'], '.')\n",
    "plt.grid(True)\n",
    "plt.xlabel('BTC % Change')\n",
    "plt.ylabel('RUT % Change')\n",
    "\n",
    "slope, intercept, r_value, p_value, std_err = linregress(newdata['BTC-USD'], newdata['^RUT'])\n",
    "x = np.linspace(-.1, .1)\n",
    "plt.plot(x, slope * x + intercept, 'k')\n",
    "print('beta = ', slope)\n",
    "print('Corr = ', r_value)"
   ]
  },
  {
   "cell_type": "markdown",
   "id": "20670133",
   "metadata": {},
   "source": [
    "### Plotting Data using BTC and RUT % Changes For Each Day"
   ]
  },
  {
   "cell_type": "code",
   "execution_count": 74,
   "id": "80d685c0",
   "metadata": {},
   "outputs": [
    {
     "name": "stdout",
     "output_type": "stream",
     "text": [
      "beta =  0.1652302110844052\n",
      "Corr =  0.3560902092978094\n"
     ]
    },
    {
     "data": {
      "image/png": "[encoded data removed]",
      "text/plain": [
       "<Figure size 432x288 with 1 Axes>"
      ]
     },
     "metadata": {
      "needs_background": "light"
     },
     "output_type": "display_data"
    }
   ],
   "source": [
    "plt.plot(newdata['pctbtc'], newdata['pctrut'], '.')\n",
    "plt.grid(True)\n",
    "plt.xlabel('BTC % Change')\n",
    "plt.ylabel('RUT % Change')\n",
    "\n",
    "slope, intercept, r_value, p_value, std_err = linregress(newdata['pctbtc'], newdata['pctrut'])\n",
    "x = np.linspace(-.1, .1)\n",
    "plt.plot(x, slope * x + intercept, 'k')\n",
    "print('beta = ', slope)\n",
    "print('Corr = ', r_value)"
   ]
  },
  {
   "cell_type": "code",
   "execution_count": null,
   "id": "ff291cac",
   "metadata": {},
   "outputs": [],
   "source": []
  }
 ],
 "metadata": {
  "kernelspec": {
   "display_name": "Python 3",
   "language": "python",
   "name": "python3"
  },
  "language_info": {
   "codemirror_mode": {
    "name": "ipython",
    "version": 3
   },
   "file_extension": ".py",
   "mimetype": "text/x-python",
   "name": "python",
   "nbconvert_exporter": "python",
   "pygments_lexer": "ipython3",
   "version": "3.7.9"
  }
 },
 "nbformat": 4,
 "nbformat_minor": 5
}
